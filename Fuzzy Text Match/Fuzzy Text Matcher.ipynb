{
 "cells": [
  {
   "cell_type": "markdown",
   "metadata": {},
   "source": [
    "### Quickie python to match a facebook friends list fuzzily with a list of potential matches\n"
   ]
  },
  {
   "cell_type": "code",
   "execution_count": 1,
   "metadata": {},
   "outputs": [
    {
     "name": "stderr",
     "output_type": "stream",
     "text": [
      "/home/topquirk67/anaconda3/envs/insight/lib/python3.7/site-packages/fuzzywuzzy/fuzz.py:11: UserWarning: Using slow pure-python SequenceMatcher. Install python-Levenshtein to remove this warning\n",
      "  warnings.warn('Using slow pure-python SequenceMatcher. Install python-Levenshtein to remove this warning')\n"
     ]
    }
   ],
   "source": [
    "# Load useful packages\n",
    "from pandas import Series,DataFrame\n",
    "import pandas as pd\n",
    "import io\n",
    "from fuzzywuzzy import fuzz"
   ]
  },
  {
   "cell_type": "code",
   "execution_count": 2,
   "metadata": {},
   "outputs": [],
   "source": [
    "friends_file = '/home/topquirk67/Documents/mh.txt'\n",
    "match_file   = '/home/topquirk67/Downloads/Go-to-survey 2017 (All Students) - Sheet1.csv'\n",
    "\n",
    "match_data = pd.read_csv(match_file)\n",
    "match_data.columns = ['advisor', 'grade', 'name', 'Q1', 'Q2', 'Q3', 'Q4', 'Q5', 'Q6']"
   ]
  },
  {
   "cell_type": "code",
   "execution_count": 3,
   "metadata": {},
   "outputs": [],
   "source": [
    "match_data = match_data.loc[match_data['grade'].isin([9,10])]\n",
    "match_data.drop(['advisor', 'Q1', 'Q2', 'Q3', 'Q4', 'Q5', 'Q6'],axis=1,inplace=True)\n",
    "match_data['name'] = match_data['name'].str.lower()\n",
    "match_data['name'] = match_data['name'].str.replace(' ','')"
   ]
  },
  {
   "cell_type": "code",
   "execution_count": 4,
   "metadata": {},
   "outputs": [
    {
     "data": {
      "text/html": [
       "<div>\n",
       "<style scoped>\n",
       "    .dataframe tbody tr th:only-of-type {\n",
       "        vertical-align: middle;\n",
       "    }\n",
       "\n",
       "    .dataframe tbody tr th {\n",
       "        vertical-align: top;\n",
       "    }\n",
       "\n",
       "    .dataframe thead th {\n",
       "        text-align: right;\n",
       "    }\n",
       "</style>\n",
       "<table border=\"1\" class=\"dataframe\">\n",
       "  <thead>\n",
       "    <tr style=\"text-align: right;\">\n",
       "      <th></th>\n",
       "      <th>grade</th>\n",
       "      <th>name</th>\n",
       "    </tr>\n",
       "  </thead>\n",
       "  <tbody>\n",
       "    <tr>\n",
       "      <th>0</th>\n",
       "      <td>9</td>\n",
       "      <td>alextanemura</td>\n",
       "    </tr>\n",
       "    <tr>\n",
       "      <th>1</th>\n",
       "      <td>9</td>\n",
       "      <td>benjaminscherzer</td>\n",
       "    </tr>\n",
       "    <tr>\n",
       "      <th>2</th>\n",
       "      <td>9</td>\n",
       "      <td>frankietonina</td>\n",
       "    </tr>\n",
       "    <tr>\n",
       "      <th>3</th>\n",
       "      <td>9</td>\n",
       "      <td>ingridodmark</td>\n",
       "    </tr>\n",
       "    <tr>\n",
       "      <th>4</th>\n",
       "      <td>9</td>\n",
       "      <td>leightoncahoon</td>\n",
       "    </tr>\n",
       "  </tbody>\n",
       "</table>\n",
       "</div>"
      ],
      "text/plain": [
       "   grade              name\n",
       "0      9      alextanemura\n",
       "1      9  benjaminscherzer\n",
       "2      9     frankietonina\n",
       "3      9      ingridodmark\n",
       "4      9    leightoncahoon"
      ]
     },
     "execution_count": 4,
     "metadata": {},
     "output_type": "execute_result"
    }
   ],
   "source": [
    "match_data.head()\n"
   ]
  },
  {
   "cell_type": "code",
   "execution_count": 5,
   "metadata": {},
   "outputs": [],
   "source": [
    "# simply read in friends as a list\n",
    "with open(friends_file) as f:\n",
    "    friends_lines = f.read().splitlines()\n",
    "    \n",
    "# eliminate all blank lines and all lines with \"friend\" case insensitive in it\n",
    "friends_lines = [item.lower() for item in friends_lines]\n",
    "friends_lines = [item.replace(\" \",\"\") for item in friends_lines if 'friend' not in item]\n",
    "friends_lines = [item for item in friends_lines if item != '']\n",
    "    "
   ]
  },
  {
   "cell_type": "code",
   "execution_count": 6,
   "metadata": {},
   "outputs": [],
   "source": [
    "#friends_lines"
   ]
  },
  {
   "cell_type": "code",
   "execution_count": 7,
   "metadata": {},
   "outputs": [
    {
     "name": "stdout",
     "output_type": "stream",
     "text": [
      "beccafriedman    ('benfriedman', 83)\n",
      "sydneygrayson    ('sydneygrayson', 100)\n",
      "saylorgreen    ('saylorgreen', 100)\n",
      "chasrinne    ('chasrinne', 100)\n",
      "emilyrinn    ('emilyrinn', 100)\n",
      "makenakerns    ('makenakerns', 100)\n",
      "laurenbaty    ('laurenbaty', 100)\n",
      "vansenseney    ('vansenseney', 100)\n",
      "cicicarter    ('cicicarter', 100)\n",
      "claircolee    ('claircolee', 100)\n",
      "natalierezek    ('natalierezek', 100)\n",
      "ianlock    ('ianlock', 100)\n",
      "mayasulkin    ('mayasulkin', 100)\n"
     ]
    }
   ],
   "source": [
    "def keywithmaxval(d):\n",
    "     \"\"\" a) create a list of the dict's keys and values; \n",
    "         b) return the key with the max value\"\"\"  \n",
    "     v=list(d.values())\n",
    "     k=list(d.keys())\n",
    "     return (k[v.index(max(v))],max(v))\n",
    "\n",
    "# go through students df and find the maximum fuzzy match; print if above 50\n",
    "\n",
    "#fuzz.ratio(friends_lines[9],match_data['name'])\n",
    "for item in match_data['name']:\n",
    "#    scores = [fuzz.ratio(item,friend) for friend in friends_lines]\n",
    "    d = {friend: fuzz.ratio(item,friend) for friend in friends_lines}\n",
    "    #print(len(d))\n",
    "    keyval = keywithmaxval(d)\n",
    "    if (keyval[1] > 80):\n",
    "        print(item,'  ',keyval)\n",
    "#    print(item,'  ',max(d, key=lambda key: d[key]))\n",
    "    # print(d)"
   ]
  },
  {
   "cell_type": "code",
   "execution_count": null,
   "metadata": {},
   "outputs": [],
   "source": []
  }
 ],
 "metadata": {
  "kernelspec": {
   "display_name": "Python 3",
   "language": "python",
   "name": "python3"
  },
  "language_info": {
   "codemirror_mode": {
    "name": "ipython",
    "version": 3
   },
   "file_extension": ".py",
   "mimetype": "text/x-python",
   "name": "python",
   "nbconvert_exporter": "python",
   "pygments_lexer": "ipython3",
   "version": "3.7.1"
  }
 },
 "nbformat": 4,
 "nbformat_minor": 2
}
