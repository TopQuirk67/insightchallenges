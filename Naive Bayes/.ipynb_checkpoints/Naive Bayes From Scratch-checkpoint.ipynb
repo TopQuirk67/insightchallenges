{
 "cells": [
  {
   "cell_type": "markdown",
   "metadata": {},
   "source": [
    "# Naive Bayes Classifier from Scratch\n",
    "## Purpose: construct a Naive Bayes Classifier (NBC) to understand it in depth.\n",
    "### Subissues\n",
    "- get results to match to off-the-shelf solutions\n",
    "- figure out how to get it to work for continuous variables\n",
    "- consider using it for BenchOrPlay"
   ]
  },
  {
   "cell_type": "code",
   "execution_count": null,
   "metadata": {},
   "outputs": [],
   "source": [
    "# Imports\n",
    "# Load useful packages\n",
    "# import seaborn as sns\n",
    "from pandas import Series,DataFrame\n",
    "import pandas as pd\n",
    "# import matplotlib as mpl\n",
    "# import numpy as np\n",
    "# import random as rnd\n",
    "\n",
    "# import matplotlib.pyplot as plt\n",
    "# import altair as alt\n",
    "# alt.renderers.enable('notebook')\n",
    "# alt.data_transformers.enable('json')\n",
    "# print(alt.renderers.active)\n",
    "\n",
    "# from sklearn.linear_model import LogisticRegression\n",
    "# from sklearn.metrics import confusion_matrix\n",
    "# from sklearn import metrics\n",
    "# from sklearn.model_selection import train_test_split\n",
    "# from sklearn.preprocessing import StandardScaler\n",
    "# from sklearn.decomposition import PCA\n",
    "# from sklearn.model_selection import train_test_split\n",
    "# from sklearn.metrics import accuracy_score\n",
    "# from sklearn.manifold import TSNE\n",
    "\n",
    "# from scipy import sparse\n",
    "# import io"
   ]
  },
  {
   "cell_type": "code",
   "execution_count": null,
   "metadata": {},
   "outputs": [],
   "source": [
    "# Data set\n",
    "# https://github.com/anshu7vyas/naive-bayesian-census-income\n",
    "# load all csv's\n",
    "dtype = {\n",
    "    'user_id' : 'int',\n",
    "    'date'    : 'str',\n",
    "    'device'  : 'category',\n",
    "    'sex'     : 'category'\n",
    "}\n",
    "raw_data_user = pd.read_csv('FunnelData/user_table.csv', dtype=dtype, parse_dates=['date'])"
   ]
  }
 ],
 "metadata": {
  "kernelspec": {
   "display_name": "Python 3",
   "language": "python",
   "name": "python3"
  },
  "language_info": {
   "codemirror_mode": {
    "name": "ipython",
    "version": 3
   },
   "file_extension": ".py",
   "mimetype": "text/x-python",
   "name": "python",
   "nbconvert_exporter": "python",
   "pygments_lexer": "ipython3",
   "version": "3.7.0"
  }
 },
 "nbformat": 4,
 "nbformat_minor": 2
}
