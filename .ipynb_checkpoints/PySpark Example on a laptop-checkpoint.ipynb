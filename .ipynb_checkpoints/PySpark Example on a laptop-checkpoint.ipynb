{
 "cells": [
  {
   "cell_type": "markdown",
   "metadata": {},
   "source": [
    "Good intentions, right?\n",
    "Here's a [Medium webpage](https://towardsdatascience.com/how-to-use-pyspark-on-your-computer-9c7180075617) that tells you how to run PySpark locally.\n",
    "The example just calculates pi.\n",
    "A really nice thing to try would be to do the code twice - once for Spark and once for local execution; perhaps there will be a gain in performance, perhaps not.\n",
    "\n",
    "It would also be nice to do a little ML in Spark also.\n",
    "\n",
    "This [Insight Indeed workshop](https://drive.google.com/open?id=1smlzwRn-zvtp8Tz2ibDMjUzEu24sUmKw) talks about the advantages of using Spark versus MapReduce."
   ]
  }
 ],
 "metadata": {
  "kernelspec": {
   "display_name": "Python 3",
   "language": "python",
   "name": "python3"
  },
  "language_info": {
   "codemirror_mode": {
    "name": "ipython",
    "version": 3
   },
   "file_extension": ".py",
   "mimetype": "text/x-python",
   "name": "python",
   "nbconvert_exporter": "python",
   "pygments_lexer": "ipython3",
   "version": "3.7.1"
  }
 },
 "nbformat": 4,
 "nbformat_minor": 2
}
