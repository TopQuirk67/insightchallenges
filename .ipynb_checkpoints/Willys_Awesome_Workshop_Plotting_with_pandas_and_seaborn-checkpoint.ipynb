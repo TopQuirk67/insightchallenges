{
 "cells": [
  {
   "cell_type": "markdown",
   "metadata": {
    "colab_type": "text",
    "id": "IOH1NMoarbgC"
   },
   "source": [
    "# Plotting with pandas and seaborn \n",
    "\n",
    "The goal of this notebook is to quickly cover plotting functions nested within pandas and expose you to the types of plotting functions avaible in seaborn"
   ]
  },
  {
   "cell_type": "markdown",
   "metadata": {
    "colab_type": "text",
    "id": "etS2q0CXrbgE"
   },
   "source": [
    "# Dependencies"
   ]
  },
  {
   "cell_type": "code",
   "execution_count": 1,
   "metadata": {
    "colab": {},
    "colab_type": "code",
    "id": "D9GXcfohrbgF"
   },
   "outputs": [],
   "source": [
    "import pandas as pd\n",
    "import seaborn as sns\n",
    "import matplotlib.pyplot as plt\n",
    "\n",
    "%matplotlib inline"
   ]
  },
  {
   "cell_type": "code",
   "execution_count": 2,
   "metadata": {
    "colab": {},
    "colab_type": "code",
    "id": "7qUr4UncrbgJ"
   },
   "outputs": [
    {
     "name": "stdout",
     "output_type": "stream",
     "text": [
      "0.23.4 0.9.0\n"
     ]
    }
   ],
   "source": [
    "print(pd.__version__, sns.__version__)"
   ]
  },
  {
   "cell_type": "code",
   "execution_count": 3,
   "metadata": {
    "colab": {},
    "colab_type": "code",
    "id": "robpEs8frbgP"
   },
   "outputs": [],
   "source": [
    "# Some asthetics\n",
    "\n",
    "sns.set_context(\"talk\")"
   ]
  },
  {
   "cell_type": "markdown",
   "metadata": {
    "colab_type": "text",
    "id": "K68wPUSDrbgS"
   },
   "source": [
    "# Important references \n",
    "\n",
    "https://seaborn.pydata.org/examples/index.html\n",
    "\n",
    "Spend time scrolling through seaborn's tutorial: https://seaborn.pydata.org/tutorial.html : It's really useful.\n",
    "\n",
    "https://pandas.pydata.org/pandas-docs/stable/visualization.html"
   ]
  },
  {
   "cell_type": "markdown",
   "metadata": {
    "colab_type": "text",
    "id": "ohzNcgTYrbgU"
   },
   "source": [
    "# Importing some data sets"
   ]
  },
  {
   "cell_type": "code",
   "execution_count": 4,
   "metadata": {
    "colab": {},
    "colab_type": "code",
    "id": "ZAGKgpmPrbgV"
   },
   "outputs": [],
   "source": [
    "data_frame = sns.load_dataset('iris')"
   ]
  },
  {
   "cell_type": "markdown",
   "metadata": {
    "colab_type": "text",
    "id": "msj0iumArbgX"
   },
   "source": [
    "# Exploratory plots (pandas)"
   ]
  },
  {
   "cell_type": "code",
   "execution_count": 5,
   "metadata": {
    "colab": {},
    "colab_type": "code",
    "id": "nP1ssYRjrbgY"
   },
   "outputs": [
    {
     "data": {
      "text/html": [
       "<div>\n",
       "<style scoped>\n",
       "    .dataframe tbody tr th:only-of-type {\n",
       "        vertical-align: middle;\n",
       "    }\n",
       "\n",
       "    .dataframe tbody tr th {\n",
       "        vertical-align: top;\n",
       "    }\n",
       "\n",
       "    .dataframe thead th {\n",
       "        text-align: right;\n",
       "    }\n",
       "</style>\n",
       "<table border=\"1\" class=\"dataframe\">\n",
       "  <thead>\n",
       "    <tr style=\"text-align: right;\">\n",
       "      <th></th>\n",
       "      <th>sepal_length</th>\n",
       "      <th>sepal_width</th>\n",
       "      <th>petal_length</th>\n",
       "      <th>petal_width</th>\n",
       "      <th>species</th>\n",
       "    </tr>\n",
       "  </thead>\n",
       "  <tbody>\n",
       "    <tr>\n",
       "      <th>0</th>\n",
       "      <td>5.1</td>\n",
       "      <td>3.5</td>\n",
       "      <td>1.4</td>\n",
       "      <td>0.2</td>\n",
       "      <td>setosa</td>\n",
       "    </tr>\n",
       "    <tr>\n",
       "      <th>1</th>\n",
       "      <td>4.9</td>\n",
       "      <td>3.0</td>\n",
       "      <td>1.4</td>\n",
       "      <td>0.2</td>\n",
       "      <td>setosa</td>\n",
       "    </tr>\n",
       "    <tr>\n",
       "      <th>2</th>\n",
       "      <td>4.7</td>\n",
       "      <td>3.2</td>\n",
       "      <td>1.3</td>\n",
       "      <td>0.2</td>\n",
       "      <td>setosa</td>\n",
       "    </tr>\n",
       "    <tr>\n",
       "      <th>3</th>\n",
       "      <td>4.6</td>\n",
       "      <td>3.1</td>\n",
       "      <td>1.5</td>\n",
       "      <td>0.2</td>\n",
       "      <td>setosa</td>\n",
       "    </tr>\n",
       "    <tr>\n",
       "      <th>4</th>\n",
       "      <td>5.0</td>\n",
       "      <td>3.6</td>\n",
       "      <td>1.4</td>\n",
       "      <td>0.2</td>\n",
       "      <td>setosa</td>\n",
       "    </tr>\n",
       "  </tbody>\n",
       "</table>\n",
       "</div>"
      ],
      "text/plain": [
       "   sepal_length  sepal_width  petal_length  petal_width species\n",
       "0           5.1          3.5           1.4          0.2  setosa\n",
       "1           4.9          3.0           1.4          0.2  setosa\n",
       "2           4.7          3.2           1.3          0.2  setosa\n",
       "3           4.6          3.1           1.5          0.2  setosa\n",
       "4           5.0          3.6           1.4          0.2  setosa"
      ]
     },
     "execution_count": 5,
     "metadata": {},
     "output_type": "execute_result"
    }
   ],
   "source": [
    "data_frame.head()"
   ]
  },
  {
   "cell_type": "code",
   "execution_count": 0,
   "metadata": {
    "colab": {},
    "colab_type": "code",
    "id": "iXM3Lbr_rbgc"
   },
   "outputs": [],
   "source": [
    "# Describe is helpful in understanding your data\n",
    "\n",
    "data_frame.describe()"
   ]
  },
  {
   "cell_type": "markdown",
   "metadata": {
    "colab_type": "text",
    "id": "t3qfifBprbgg"
   },
   "source": [
    "# Piviot Tables!\n",
    "\n",
    "Pivot tables are a very useful tool for generating quick views of what's going on with your data.\n",
    "\n",
    "They work identically to groupby/aggregration in SQL databases. Here is a poorly formatted list of built in agg functions.\n",
    "\n",
    "    Function\tDescription\n",
    "    =====================================\n",
    "    count\tNumber of non-NA observations\n",
    "    sum\tSum of values\n",
    "    mean\tMean of values\n",
    "    mad\tMean absolute deviation\n",
    "    median\tArithmetic median of values\n",
    "    min\tMinimum\n",
    "    max\tMaximum\n",
    "    mode\tMode\n",
    "    abs\tAbsolute Value\n",
    "    prod\tProduct of values\n",
    "    std\tBessel-corrected sample standard deviation\n",
    "    var\tUnbiased variance\n",
    "    sem\tStandard error of the mean\n",
    "    skew\tSample skewness (3rd moment)\n",
    "    kurt\tSample kurtosis (4th moment)\n",
    "    quantile\tSample quantile (value at %)\n",
    "    cumsum\tCumulative sum\n",
    "    cumprod\tCumulative product\n",
    "    cummax\tCumulative maximum\n",
    "    cummin\tCumulative minimum"
   ]
  },
  {
   "cell_type": "code",
   "execution_count": 0,
   "metadata": {
    "colab": {},
    "colab_type": "code",
    "id": "e-PdVzOSrbgh"
   },
   "outputs": [],
   "source": [
    "pd.pivot_table(data=data_frame, values=['sepal_length', 'sepal_width', 'petal_length', 'petal_width'], \n",
    "               index='species', columns=None, \n",
    "               aggfunc='mean', fill_value=None, margins=False, \n",
    "               dropna=True, margins_name='All')"
   ]
  },
  {
   "cell_type": "code",
   "execution_count": 0,
   "metadata": {
    "colab": {},
    "colab_type": "code",
    "id": "qqUgafrTrbgl"
   },
   "outputs": [],
   "source": [
    "mean_std_df = pd.pivot_table(data=data_frame, values=['sepal_length', 'sepal_width', 'petal_length', 'petal_width'], \n",
    "               index='species', columns=None, \n",
    "               aggfunc=['mean', 'std'], fill_value=None, margins=False, \n",
    "               dropna=True, margins_name='All')\n",
    "mean_std_df"
   ]
  },
  {
   "cell_type": "code",
   "execution_count": 0,
   "metadata": {
    "colab": {},
    "colab_type": "code",
    "id": "Ms06Pghirbgq"
   },
   "outputs": [],
   "source": [
    "# Indexing into hierarchical columns\n",
    "\n",
    "mean_std_df['mean']"
   ]
  },
  {
   "cell_type": "markdown",
   "metadata": {
    "colab_type": "text",
    "id": "6IOOVFh0rbgw"
   },
   "source": [
    "## Plotting with pandas\n",
    "\n",
    "Pandas is designed to plot **structured dataframes**. Meaning things that look like piviot tables. "
   ]
  },
  {
   "cell_type": "code",
   "execution_count": 0,
   "metadata": {
    "colab": {},
    "colab_type": "code",
    "id": "2VlDI5Rgrbgw"
   },
   "outputs": [],
   "source": [
    "mean_std_df['mean'].plot(kind='bar')"
   ]
  },
  {
   "cell_type": "code",
   "execution_count": 0,
   "metadata": {
    "colab": {},
    "colab_type": "code",
    "id": "U2otoHaNrbg5"
   },
   "outputs": [],
   "source": [
    "mean_std_df['mean'].plot(kind='bar', yerr=mean_std_df['std'])"
   ]
  },
  {
   "cell_type": "code",
   "execution_count": 0,
   "metadata": {
    "colab": {},
    "colab_type": "code",
    "id": "Zo7jG2mmrbg-"
   },
   "outputs": [],
   "source": [
    "mean_std_df['mean'].boxplot()"
   ]
  },
  {
   "cell_type": "code",
   "execution_count": 0,
   "metadata": {
    "colab": {},
    "colab_type": "code",
    "id": "RjpbYx1zrbhD"
   },
   "outputs": [],
   "source": [
    "data_frame.head()"
   ]
  },
  {
   "cell_type": "markdown",
   "metadata": {
    "colab_type": "text",
    "id": "ZDI1kZTzrbhI"
   },
   "source": [
    "# Plotting with seaborn\n",
    "\n",
    "Seaborn is a statistical plotting package that is designed to plot **LONG dataframes**. Meaning that you only have one numerical value per row.\n",
    "\n",
    "Do your columns look very redundant? If so they are probably long."
   ]
  },
  {
   "cell_type": "markdown",
   "metadata": {
    "colab_type": "text",
    "id": "Nw2jYHVVrbhJ"
   },
   "source": [
    "Seaborn natively can make some very impressive summary images"
   ]
  },
  {
   "cell_type": "code",
   "execution_count": 0,
   "metadata": {
    "colab": {},
    "colab_type": "code",
    "id": "ItQZD-LYrbhL"
   },
   "outputs": [],
   "source": [
    "sns.set_context('talk')"
   ]
  },
  {
   "cell_type": "code",
   "execution_count": 0,
   "metadata": {
    "colab": {},
    "colab_type": "code",
    "id": "BfH4U6BarbhS"
   },
   "outputs": [],
   "source": [
    "sns.pairplot(data=data_frame, hue=\"species\")"
   ]
  },
  {
   "cell_type": "markdown",
   "metadata": {
    "colab_type": "text",
    "id": "jS4NcpXhrbhW"
   },
   "source": [
    "Trying to replicate the bar plots from above"
   ]
  },
  {
   "cell_type": "code",
   "execution_count": 0,
   "metadata": {
    "colab": {},
    "colab_type": "code",
    "id": "xaObb1DwrbhX"
   },
   "outputs": [],
   "source": [
    "data_frame.columns"
   ]
  },
  {
   "cell_type": "code",
   "execution_count": 0,
   "metadata": {
    "colab": {},
    "colab_type": "code",
    "id": "hIlfC0Gqrbhb"
   },
   "outputs": [],
   "source": [
    "sns.barplot(x='species', y='petal_width', data=data_frame)"
   ]
  },
  {
   "cell_type": "code",
   "execution_count": 0,
   "metadata": {
    "colab": {},
    "colab_type": "code",
    "id": "TUWOalKLrbhe"
   },
   "outputs": [],
   "source": [
    "sns.barplot(x='petal_width', y='species', data=data_frame)"
   ]
  },
  {
   "cell_type": "markdown",
   "metadata": {
    "colab_type": "text",
    "id": "ggmuL3n8rbhh"
   },
   "source": [
    "If we want to create the above data with the way the data_frame is currently structured we need to build it with a foor loop. "
   ]
  },
  {
   "cell_type": "code",
   "execution_count": 0,
   "metadata": {
    "colab": {},
    "colab_type": "code",
    "id": "YLggVrKDrbhi"
   },
   "outputs": [],
   "source": [
    "# Making functions using for loops\n",
    "\n",
    "fig, ax = plt.subplots(ncols=4, nrows=1, sharey=True, sharex=True, figsize=(16, 4))\n",
    "\n",
    "for fig_ind, category in enumerate(['sepal_length', 'sepal_width', 'petal_length', 'petal_width']):\n",
    "    sns.barplot(x='species', y=category,\n",
    "                data=data_frame, ax=ax[fig_ind])\n",
    "    ax[fig_ind].set_title(category)\n",
    "    ax[fig_ind].set_ylabel('')\n",
    "    ax[fig_ind].set_xticklabels(ax[fig_ind].get_xticklabels(), rotation=30)"
   ]
  },
  {
   "cell_type": "markdown",
   "metadata": {
    "colab_type": "text",
    "id": "F-KjU_nPrbhl"
   },
   "source": [
    "Let's say we want to do this without using a for loop.... \n",
    "\n",
    "We need to mamke our data **even longer!**"
   ]
  },
  {
   "cell_type": "code",
   "execution_count": 0,
   "metadata": {
    "colab": {},
    "colab_type": "code",
    "id": "FuD-6jz-rbhm"
   },
   "outputs": [],
   "source": [
    "melted_data_frame = data_frame.melt(id_vars='species')"
   ]
  },
  {
   "cell_type": "code",
   "execution_count": 0,
   "metadata": {
    "colab": {},
    "colab_type": "code",
    "id": "aRU3kVdurbho"
   },
   "outputs": [],
   "source": [
    "melted_data_frame.head()"
   ]
  },
  {
   "cell_type": "code",
   "execution_count": 0,
   "metadata": {
    "colab": {},
    "colab_type": "code",
    "id": "HOSio2c5rbhr"
   },
   "outputs": [],
   "source": [
    "sns.barplot(x='species', y='value', hue='variable', data=melted_data_frame)"
   ]
  },
  {
   "cell_type": "code",
   "execution_count": 0,
   "metadata": {
    "colab": {},
    "colab_type": "code",
    "id": "feYlJ5g-rbhx"
   },
   "outputs": [],
   "source": [
    "sns.boxplot(x='species', y='value', hue='variable', data=melted_data_frame)"
   ]
  },
  {
   "cell_type": "code",
   "execution_count": 0,
   "metadata": {
    "colab": {},
    "colab_type": "code",
    "id": "Zgr_CAMdrbh0"
   },
   "outputs": [],
   "source": [
    "sns.violinplot(x='species', y='value', hue='variable', data=melted_data_frame)"
   ]
  },
  {
   "cell_type": "code",
   "execution_count": 0,
   "metadata": {
    "colab": {},
    "colab_type": "code",
    "id": "U5SbFUYErbh6"
   },
   "outputs": [],
   "source": [
    "sns.swarmplot(x='species', y='value', hue='variable', data=melted_data_frame)"
   ]
  },
  {
   "cell_type": "code",
   "execution_count": 0,
   "metadata": {
    "colab": {},
    "colab_type": "code",
    "id": "nMp72YF-rbiA"
   },
   "outputs": [],
   "source": [
    "sns.boxenplot(x='species', y='value', hue='variable', data=melted_data_frame)"
   ]
  },
  {
   "cell_type": "code",
   "execution_count": 0,
   "metadata": {
    "colab": {},
    "colab_type": "code",
    "id": "gahoUCd1rbiD"
   },
   "outputs": [],
   "source": [
    "ax = sns.boxenplot(x='value', y='species', hue='variable', data=melted_data_frame)\n",
    "ax.legend(loc='center left', bbox_to_anchor=(1, 0.5))"
   ]
  },
  {
   "cell_type": "markdown",
   "metadata": {
    "colab_type": "text",
    "id": "3buyyZForbiH"
   },
   "source": [
    "# Looking at dense scatters? Use kde plots."
   ]
  },
  {
   "cell_type": "code",
   "execution_count": 0,
   "metadata": {
    "colab": {},
    "colab_type": "code",
    "id": "pAnTkIMfrbiJ"
   },
   "outputs": [],
   "source": [
    "# Alpha controls the opacity of a point\n",
    "\n",
    "data_frame.plot(x='sepal_length', y='petal_width', kind='scatter', alpha=0.2)"
   ]
  },
  {
   "cell_type": "code",
   "execution_count": 0,
   "metadata": {
    "colab": {},
    "colab_type": "code",
    "id": "rB8NaiHZrbiL"
   },
   "outputs": [],
   "source": [
    "sns.kdeplot(data=data_frame[['sepal_length', 'petal_width']], shade_lowest=True)"
   ]
  },
  {
   "cell_type": "code",
   "execution_count": 0,
   "metadata": {
    "colab": {},
    "colab_type": "code",
    "id": "u2I--zORrbiS"
   },
   "outputs": [],
   "source": [
    "ax = data_frame.plot(x='sepal_length', y='petal_width', kind='scatter', alpha=1, c='k')\n",
    "sns.kdeplot(data=data_frame[['sepal_length', 'petal_width']], shade_lowest=True, ax=ax)\n"
   ]
  },
  {
   "cell_type": "markdown",
   "metadata": {
    "colab_type": "text",
    "id": "ygTTnAPkrbiW"
   },
   "source": [
    "# Summary plots using both pandas and seaborn"
   ]
  },
  {
   "cell_type": "markdown",
   "metadata": {
    "colab_type": "text",
    "id": "shipoZoQrbiY"
   },
   "source": [
    "## Coorlation plots"
   ]
  },
  {
   "cell_type": "code",
   "execution_count": 0,
   "metadata": {
    "colab": {},
    "colab_type": "code",
    "id": "rxkOP2UGrbia"
   },
   "outputs": [],
   "source": [
    "# You can generate a coorelation matrix using pandas\n",
    "\n",
    "data_frame.corr()"
   ]
  },
  {
   "cell_type": "code",
   "execution_count": 0,
   "metadata": {
    "colab": {},
    "colab_type": "code",
    "id": "7UtselaIrbij"
   },
   "outputs": [],
   "source": [
    "sns.heatmap(data_frame.corr(), annot=True, cmap=\"YlGnBu\", cbar=False)"
   ]
  },
  {
   "cell_type": "code",
   "execution_count": 0,
   "metadata": {
    "colab": {},
    "colab_type": "code",
    "id": "Z2eCcFrHrbir"
   },
   "outputs": [],
   "source": [
    "sns.clustermap(data_frame.corr(), annot=True, cmap=\"YlGnBu\")"
   ]
  }
 ],
 "metadata": {
  "colab": {
   "name": "Willys Awesome Workshop Plotting with pandas and seaborn.ipynb",
   "provenance": [],
   "version": "0.3.2"
  },
  "kernelspec": {
   "display_name": "Python 3",
   "language": "python",
   "name": "python3"
  },
  "language_info": {
   "codemirror_mode": {
    "name": "ipython",
    "version": 3
   },
   "file_extension": ".py",
   "mimetype": "text/x-python",
   "name": "python",
   "nbconvert_exporter": "python",
   "pygments_lexer": "ipython3",
   "version": "3.7.0"
  }
 },
 "nbformat": 4,
 "nbformat_minor": 1
}
