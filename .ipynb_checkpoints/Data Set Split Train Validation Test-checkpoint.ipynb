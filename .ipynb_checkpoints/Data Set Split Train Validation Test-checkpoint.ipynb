{
 "cells": [
  {
   "cell_type": "markdown",
   "metadata": {},
   "source": [
    "### Small detour to write a train / validate / test splitter\n",
    "\n",
    "However, we will just do k-fold validation in the standard train set. "
   ]
  },
  {
   "cell_type": "code",
   "execution_count": 2,
   "metadata": {},
   "outputs": [],
   "source": [
    "def train_validate_test_split(df, target_variable='class_label', train_percent=.6, validate_percent=.2, seed=None):\n",
    "    # Function to create train, validate, and test data frames; adjusted from an example at\n",
    "    # https://stackoverflow.com/questions/38250710/how-to-split-data-into-3-sets-train-validation-and-test\n",
    "    # check that the target variable exists first\n",
    "    try:\n",
    "        y = df[target_variable]\n",
    "    except:\n",
    "        print('train_validate_test_split fails\\nTarget variable \\'',target_variable,'\\' not found in data frame')\n",
    "    np.random.seed(seed)\n",
    "    perm = np.random.permutation(df.index)\n",
    "    m = len(df.index)\n",
    "    train_end = int(train_percent * m)\n",
    "    validate_end = int(validate_percent * m) + train_end\n",
    "    train = df.loc[perm[:train_end]]\n",
    "    validate = df.loc[perm[train_end:validate_end]]\n",
    "    test = df.loc[perm[validate_end:]]\n",
    "    # separate out predictor (X) and target (y) variable \n",
    "    y_train    = train[target_variable]\n",
    "    X_train    = train.drop(columns=target_variable,axis=1)\n",
    "    y_validate = validate[target_variable]\n",
    "    X_validate = validate.drop(columns=target_variable,axis=1)\n",
    "    y_test     = test[target_variable]\n",
    "    X_test     = test.drop(columns=target_variable,axis=1)\n",
    "    return X_train, X_validate, X_test, y_train, y_validate, y_test\n",
    "\n",
    "#X_train, X_validate, X_test, y_train, y_validate, y_test = train_validate_test_split(df, target_variable='class_label')\n"
   ]
  },
  {
   "cell_type": "code",
   "execution_count": 3,
   "metadata": {},
   "outputs": [],
   "source": [
    "# From https://stackoverflow.com/questions/38250710/how-to-split-data-into-3-sets-train-validation-and-test\n",
    "def train_validate_test_split(df, train_percent=.6, validate_percent=.2, seed=None):\n",
    "    np.random.seed(seed)\n",
    "    perm = np.random.permutation(df.index)\n",
    "    m = len(df.index)\n",
    "    train_end = int(train_percent * m)\n",
    "    validate_end = int(validate_percent * m) + train_end\n",
    "    train = df.ix[perm[:train_end]]\n",
    "    validate = df.ix[perm[train_end:validate_end]]\n",
    "    test = df.ix[perm[validate_end:]]\n",
    "    return train, validate, test"
   ]
  },
  {
   "cell_type": "code",
   "execution_count": null,
   "metadata": {},
   "outputs": [],
   "source": []
  }
 ],
 "metadata": {
  "kernelspec": {
   "display_name": "Python 3",
   "language": "python",
   "name": "python3"
  },
  "language_info": {
   "codemirror_mode": {
    "name": "ipython",
    "version": 3
   },
   "file_extension": ".py",
   "mimetype": "text/x-python",
   "name": "python",
   "nbconvert_exporter": "python",
   "pygments_lexer": "ipython3",
   "version": "3.7.1"
  }
 },
 "nbformat": 4,
 "nbformat_minor": 2
}
