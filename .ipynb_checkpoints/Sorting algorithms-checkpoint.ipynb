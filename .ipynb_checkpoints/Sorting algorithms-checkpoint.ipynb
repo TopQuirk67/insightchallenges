{
 "cells": [
  {
   "cell_type": "markdown",
   "metadata": {},
   "source": [
    "Here's a fun little notebook to practice those classic old saws, sorting algos.\n",
    "\n",
    "First up, *bubble sort!*\n",
    "\n",
    "Pseudo-code\n",
    "\n",
    "1) input an unsorted list in the function\n",
    "2) initial a swap counter to 0\n",
    "3) test pairs of elements and swap them as you go through the list if the first element is greater than the next\n",
    "4) while condition fails when there are no swaps."
   ]
  },
  {
   "cell_type": "code",
   "execution_count": 13,
   "metadata": {},
   "outputs": [],
   "source": [
    "listi = [10,5,12,3,4,6,1,2,7,11,9,8]"
   ]
  },
  {
   "cell_type": "code",
   "execution_count": 14,
   "metadata": {},
   "outputs": [
    {
     "name": "stdout",
     "output_type": "stream",
     "text": [
      "[10, 5, 12, 3, 4, 6, 1, 2, 7, 11, 9, 8]\n",
      "[1, 2, 3, 4, 5, 6, 7, 8, 9, 10, 11, 12]\n"
     ]
    }
   ],
   "source": [
    "def bubble_sort(list):\n",
    "    swaps = 1\n",
    "    while swaps > 0:\n",
    "        swaps = 0\n",
    "        for idx in range(0,len(list)-1):\n",
    "            if list[idx] > list[idx+1]:\n",
    "                tmp = list[idx]\n",
    "                list[idx] = list[idx+1]\n",
    "                list[idx+1] = tmp\n",
    "                swaps += 1\n",
    "    return(list)\n",
    "\n",
    "print(listi)\n",
    "print(bubble_sort(listi))"
   ]
  },
  {
   "cell_type": "markdown",
   "metadata": {},
   "source": [
    "I checked this against http://interactivepython.org/runestone/static/pythonds/SortSearch/TheBubbleSort.html\n",
    "and they have essentially the same algorithm.\n",
    "\n",
    "Now on to the next, an insertion sort.\n",
    "\n",
    "Pseudo code:\n",
    "1) go through a list from first to last element\n",
    "2) collect a separate list which will be ordered.\n",
    "3) for each current element, go through the ordered list to find where it should be inserted in the ordered list\n",
    "\n",
    "So here's the algorithm I found; I really really don't get it!\n",
    "\n"
   ]
  },
  {
   "cell_type": "code",
   "execution_count": 60,
   "metadata": {},
   "outputs": [],
   "source": [
    "listi = [10,5,12,3,4,6,1,2,7,11,9,8]"
   ]
  },
  {
   "cell_type": "code",
   "execution_count": 61,
   "metadata": {},
   "outputs": [
    {
     "name": "stdout",
     "output_type": "stream",
     "text": [
      "[10, 5, 12, 3, 4, 6, 1, 2, 7, 11, 9, 8]\n",
      "0 5 [10, 10, 12, 3, 4, 6, 1, 2, 7, 11, 9, 8]\n",
      "2 12 [5, 10, 12, 3, 4, 6, 1, 2, 7, 11, 9, 8]\n",
      "0 3 [5, 5, 10, 12, 4, 6, 1, 2, 7, 11, 9, 8]\n",
      "1 4 [3, 5, 5, 10, 12, 6, 1, 2, 7, 11, 9, 8]\n",
      "3 6 [3, 4, 5, 10, 10, 12, 1, 2, 7, 11, 9, 8]\n",
      "0 1 [3, 3, 4, 5, 6, 10, 12, 2, 7, 11, 9, 8]\n",
      "1 2 [1, 3, 3, 4, 5, 6, 10, 12, 7, 11, 9, 8]\n",
      "6 7 [1, 2, 3, 4, 5, 6, 10, 10, 12, 11, 9, 8]\n",
      "8 11 [1, 2, 3, 4, 5, 6, 7, 10, 12, 12, 9, 8]\n",
      "7 9 [1, 2, 3, 4, 5, 6, 7, 10, 10, 11, 12, 8]\n",
      "7 8 [1, 2, 3, 4, 5, 6, 7, 9, 9, 10, 11, 12]\n",
      "[1, 2, 3, 4, 5, 6, 7, 8, 9, 10, 11, 12]\n"
     ]
    }
   ],
   "source": [
    "def insertion_sort(alist):\n",
    "    for index in range(1,len(alist)):\n",
    "\n",
    "        currentvalue = alist[index]\n",
    "        position = index\n",
    "\n",
    "        while position>0 and alist[position-1]>currentvalue:\n",
    "            alist[position]=alist[position-1]\n",
    "            position = position-1\n",
    "\n",
    "        print(position,currentvalue,alist)\n",
    "        alist[position]=currentvalue\n",
    "    \n",
    "print(listi)\n",
    "insertion_sort(listi)\n",
    "print(listi)"
   ]
  },
  {
   "cell_type": "code",
   "execution_count": 47,
   "metadata": {},
   "outputs": [
    {
     "name": "stdout",
     "output_type": "stream",
     "text": [
      "2\n",
      "3\n",
      "2\n",
      "[2, 3]\n",
      "[]\n",
      "[8, 2, 3]\n"
     ]
    }
   ],
   "source": [
    "list = [2,3]\n",
    "for item in list:\n",
    "    print(item)\n",
    "    \n",
    "print(list[0])\n",
    "print(list[0:])\n",
    "print(list[:0])\n",
    "\n",
    "list.insert(0,8)\n",
    "print(list)"
   ]
  },
  {
   "cell_type": "markdown",
   "metadata": {},
   "source": [
    "OK, so let's see about the funno recursive one, i.e. merge sort\n",
    "\n",
    "So here's the idea!  You have a list, and you break is roughly in two.  Once you do that, you are going to call the same algorithm (i.e. sort this puppy!) on each one.  You will stop when you get to a list of length one, at which point you have to figure out how to put lists back together.  You need a little routine which goes through two ordered lists of arbitrary length and builds up the merged list from those two.  Given the recursion, you'll just work your way back up the list of recursions with ordered / merged lists. \n",
    "\n",
    "\n"
   ]
  },
  {
   "cell_type": "code",
   "execution_count": 85,
   "metadata": {},
   "outputs": [],
   "source": [
    "list = [10,5,12,3,4,6,1,2,7,11,13,9,8]\n",
    "\n",
    "def merge_sort(list):\n",
    "    if len(list)==1:\n",
    "        return list\n",
    "    else:\n",
    "        middle = len(list) // 2\n",
    "        left_list  = list[:middle]\n",
    "        right_list = list[middle:]\n",
    "        left_list  = merge_sort(left_list)\n",
    "        right_list = merge_sort(right_list)\n",
    "    return(merge_lists(left_list,right_list))\n",
    "    \n",
    "def merge_lists(left,right):\n",
    "    ordered = []\n",
    "    while (len(left)>0) & (len(right)>0):\n",
    "        if left[0]<right[0]:\n",
    "            ordered.append(left[0])\n",
    "            left.pop(0)\n",
    "        else:\n",
    "            ordered.append(right[0])\n",
    "            right.pop(0)\n",
    "    ordered.extend(left)     # since one of these is empty and the other is already ordered\n",
    "    ordered.extend(right)    # we can just append both of them to the end\n",
    "    return(ordered)\n",
    "\n"
   ]
  },
  {
   "cell_type": "code",
   "execution_count": null,
   "metadata": {},
   "outputs": [],
   "source": []
  },
  {
   "cell_type": "code",
   "execution_count": 89,
   "metadata": {},
   "outputs": [
    {
     "name": "stdout",
     "output_type": "stream",
     "text": [
      "[1, 1, 2, 3, 5, 6, 7, 8]\n",
      "[1, 2, 3, 4, 5, 6, 7, 8, 9, 10, 11, 12, 13]\n"
     ]
    }
   ],
   "source": [
    "list = [10,5,12,3,4,6,1,2,7,11,13,9,8]\n",
    "\n",
    "blub = merge_lists([1,2,5,8],[1,3,6,7])\n",
    "print(blub)\n",
    "\n",
    "newlist = merge_sort(list)\n",
    "print(newlist)\n"
   ]
  },
  {
   "cell_type": "markdown",
   "metadata": {},
   "source": [
    "Let's try the insertion sort again from scratch\n",
    "\n",
    "That's cool.  The key here is that you are keeping a list at the beginning and going down through that list to find where you insert the current value.  You just keep swapping until it gets to the correct place.  You do need to make sure that you don't go past the beginning of the list.  Also, starting at idx = 1 is important, as you want to swap into list[0] if it's smaller, so you need room to index there. \n"
   ]
  },
  {
   "cell_type": "code",
   "execution_count": 92,
   "metadata": {},
   "outputs": [
    {
     "name": "stdout",
     "output_type": "stream",
     "text": [
      "[1, 2, 3, 4, 5, 6, 7, 8, 9, 10, 11, 12, 13]\n"
     ]
    }
   ],
   "source": [
    "list = [10,5,12,3,4,6,1,2,7,11,13,9,8]\n",
    "\n",
    "def insertion_sort(list):\n",
    "    for idx in range(1,len(list)):\n",
    "        current_position = idx\n",
    "        number_to_insert = list[idx]\n",
    "        while (current_position>0)&(number_to_insert < list[current_position-1]):\n",
    "            list[current_position]   = list[current_position-1]\n",
    "            list[current_position-1] = number_to_insert\n",
    "            current_position += -1\n",
    "    return(list)\n",
    "\n",
    "blub = insertion_sort(list) \n",
    "print(blub)"
   ]
  },
  {
   "cell_type": "markdown",
   "metadata": {},
   "source": [
    "SELECTION SORT... should be simple... WOOT!\n",
    "\n",
    "Basic idea is that you collect the remaining minimum value from the input list in a new list.\n",
    "So you have to go through the list a bunch of times. "
   ]
  },
  {
   "cell_type": "code",
   "execution_count": 96,
   "metadata": {},
   "outputs": [
    {
     "name": "stdout",
     "output_type": "stream",
     "text": [
      "[1, 2, 3, 4, 5, 6, 7, 8, 9, 10, 11, 12, 13]\n"
     ]
    }
   ],
   "source": [
    "list = [10,5,12,3,4,6,1,2,7,11,13,9,8]\n",
    "\n",
    "def selection_sort(list):\n",
    "    sorted_list = []\n",
    "    while (len(list)>0):\n",
    "        current_minimum = list[0]  # just have to have any number from the list; pick the first.\n",
    "        for item in list:\n",
    "            if (item < current_minimum):\n",
    "                current_minimum = item\n",
    "        sorted_list.append(current_minimum)\n",
    "        list.remove(current_minimum)\n",
    "    return(sorted_list)\n",
    "    \n",
    "blub = selection_sort(list)\n",
    "print(blub)"
   ]
  },
  {
   "cell_type": "markdown",
   "metadata": {},
   "source": [
    "Heapsort.  Gak, what does that mean?  \n",
    "\n"
   ]
  },
  {
   "cell_type": "markdown",
   "metadata": {},
   "source": [
    "Actually, let's do a quicksort\n",
    "\n",
    "see https://www.khanacademy.org/computing/computer-science/algorithms/quick-sort/a/overview-of-quicksort and\n",
    "\n",
    "\n",
    "and\n",
    "\n",
    "https://en.wikipedia.org/wiki/Quicksort\n"
   ]
  },
  {
   "cell_type": "code",
   "execution_count": null,
   "metadata": {},
   "outputs": [],
   "source": [
    "list =  [9, 7, 5, 11, 12, 2, 14, 3, 10, 6]\n",
    "\n",
    "def quick_sort(list):\n",
    "    # pick pivot to be the last element in the list\n",
    "    p = list[-1]\n",
    "    [list,idxp] = partition(list,p)\n",
    "    left_list  = quick_sort(list[:idxp-1])\n",
    "    right_list = quick_sort(list[idxp:])\n",
    "    return((left_list.extend([p])).extend(right_list))\n",
    "\n",
    "def: partition(list,p):\n",
    "    # start from the first element of the list and do the triple swap if that number is greater than p\n",
    "    "
   ]
  }
 ],
 "metadata": {
  "kernelspec": {
   "display_name": "Python 3",
   "language": "python",
   "name": "python3"
  },
  "language_info": {
   "codemirror_mode": {
    "name": "ipython",
    "version": 3
   },
   "file_extension": ".py",
   "mimetype": "text/x-python",
   "name": "python",
   "nbconvert_exporter": "python",
   "pygments_lexer": "ipython3",
   "version": "3.7.0"
  }
 },
 "nbformat": 4,
 "nbformat_minor": 2
}
