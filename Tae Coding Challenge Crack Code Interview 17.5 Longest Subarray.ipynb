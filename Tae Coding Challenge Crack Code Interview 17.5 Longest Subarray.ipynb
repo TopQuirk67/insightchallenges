{
 "cells": [
  {
   "cell_type": "markdown",
   "metadata": {},
   "source": [
    "## 17.5 Letters and Numbers: Given an array with letters and numbers, find the longest subarray with an equal number of letters and numbers.\n",
    "\n",
    "For this example, we will just substitute '+' and '-'\n",
    "\n"
   ]
  },
  {
   "cell_type": "code",
   "execution_count": 127,
   "metadata": {},
   "outputs": [],
   "source": [
    "import numpy as np\n",
    "\n",
    "testarray1 = ['+', '-', '+', '+', '+', '-', '-', '-', '+', '-', '+', '+', '-', '-', '+', '+', '+', '+', '+', '+', '+']\n",
    "#testarray1 = ['+', '-', '+', '+', '+', '-', '-', '-', '+', '-', '+', '+', '-', '-', '+', '+', '+', '+', '-', '-', '-', '-']\n",
    "\n",
    "#testarray1 = ['+', '-', '+', '-']"
   ]
  },
  {
   "cell_type": "code",
   "execution_count": 128,
   "metadata": {},
   "outputs": [],
   "source": [
    "def plusminusNOT(i):\n",
    "    if i=='+':\n",
    "        return 1\n",
    "    elif i=='-':\n",
    "        return -1\n",
    "    else:\n",
    "        return 0\n",
    "    \n",
    "def plus_to_nparray(list):\n",
    "    return np.array([plusminusNOT(i) for i in list])\n",
    "    "
   ]
  },
  {
   "cell_type": "code",
   "execution_count": 129,
   "metadata": {},
   "outputs": [],
   "source": [
    "array = plus_to_nparray(testarray1)"
   ]
  },
  {
   "cell_type": "markdown",
   "metadata": {},
   "source": [
    "## Brute force: start with the largest string and then just see if the sum is zero.  Once you find a sum of zero, return that and quit."
   ]
  },
  {
   "cell_type": "code",
   "execution_count": 130,
   "metadata": {},
   "outputs": [],
   "source": [
    "def find_longest_subarray(array):\n",
    "    longest_length = 0\n",
    "    for l in range(-1+len(array),-1,-1):\n",
    "        if (longest_length!=0)&(l<=longest_length): # Break if there's no chance to find a longer substring than\n",
    "            break                                   # we have already found.\n",
    "        for i in range(0,l):\n",
    "            if (array[i:l+1].sum()==0) & ((l-i+1)>longest_length):\n",
    "                longest_length = l-i+1\n",
    "                longest_array  = array[i:l+1]\n",
    "    return('longest subarray:',longest_array)"
   ]
  },
  {
   "cell_type": "code",
   "execution_count": 131,
   "metadata": {},
   "outputs": [
    {
     "name": "stdout",
     "output_type": "stream",
     "text": [
      "('longest subarray:', array([-1,  1,  1,  1, -1, -1, -1,  1, -1,  1,  1, -1, -1,  1]))\n"
     ]
    }
   ],
   "source": [
    "print(find_longest_subarray(array))"
   ]
  },
  {
   "cell_type": "markdown",
   "metadata": {},
   "source": [
    "## Better implementation with cumulative sum"
   ]
  },
  {
   "cell_type": "code",
   "execution_count": 132,
   "metadata": {},
   "outputs": [
    {
     "data": {
      "text/plain": [
       "array([1, 0, 1, 2, 3, 2, 1, 0, 1, 0, 1, 2, 1, 0, 1, 2, 3, 4, 5, 6, 7])"
      ]
     },
     "execution_count": 132,
     "metadata": {},
     "output_type": "execute_result"
    }
   ],
   "source": [
    "array.cumsum()"
   ]
  },
  {
   "cell_type": "code",
   "execution_count": 133,
   "metadata": {},
   "outputs": [
    {
     "name": "stdout",
     "output_type": "stream",
     "text": [
      "[0 1 0 1 2 3 2 1 0 1 0 1 2 1 0 1 2 3 4 5 6 7]\n"
     ]
    }
   ],
   "source": [
    "cs = np.insert(array.cumsum(),0,0)\n",
    "print(cs)"
   ]
  },
  {
   "cell_type": "code",
   "execution_count": 134,
   "metadata": {},
   "outputs": [
    {
     "data": {
      "text/plain": [
       "7"
      ]
     },
     "execution_count": 134,
     "metadata": {},
     "output_type": "execute_result"
    }
   ],
   "source": [
    "array[0:22].sum()"
   ]
  },
  {
   "cell_type": "code",
   "execution_count": 135,
   "metadata": {},
   "outputs": [],
   "source": [
    "def find_longest_subarray_cumsum(array):\n",
    "    from collections import defaultdict\n",
    "    cs = np.insert(array.cumsum(),0,0)\n",
    "    # find indices of furthest apart matching numbers in cs\n",
    "    # go through the array and update a dict with the matching points (a list) of positions matching\n",
    "    # specific cumsums\n",
    "    csmap = defaultdict(list)\n",
    "    for count,item in enumerate(cs):\n",
    "        csmap[item].append(count)\n",
    "    max_span = 0\n",
    "    for key in csmap:\n",
    "        span = csmap[key][-1] - csmap[key][0]\n",
    "        if span > max_span:\n",
    "            max_span = span\n",
    "            span_beg = csmap[key][0]\n",
    "            span_end = csmap[key][-1]\n",
    "            \n",
    "\n",
    "        \n",
    "    return(array[span_beg:span_end])\n",
    "    "
   ]
  },
  {
   "cell_type": "code",
   "execution_count": 136,
   "metadata": {},
   "outputs": [
    {
     "data": {
      "text/plain": [
       "array([ 1, -1,  1,  1,  1, -1, -1, -1,  1, -1,  1,  1, -1, -1])"
      ]
     },
     "execution_count": 136,
     "metadata": {},
     "output_type": "execute_result"
    }
   ],
   "source": [
    "x=find_longest_subarray_cumsum(array)\n",
    "x"
   ]
  },
  {
   "cell_type": "markdown",
   "metadata": {},
   "source": [
    "## WOOT!"
   ]
  },
  {
   "cell_type": "code",
   "execution_count": null,
   "metadata": {},
   "outputs": [],
   "source": []
  }
 ],
 "metadata": {
  "kernelspec": {
   "display_name": "Python 3",
   "language": "python",
   "name": "python3"
  },
  "language_info": {
   "codemirror_mode": {
    "name": "ipython",
    "version": 3
   },
   "file_extension": ".py",
   "mimetype": "text/x-python",
   "name": "python",
   "nbconvert_exporter": "python",
   "pygments_lexer": "ipython3",
   "version": "3.7.1"
  }
 },
 "nbformat": 4,
 "nbformat_minor": 2
}
