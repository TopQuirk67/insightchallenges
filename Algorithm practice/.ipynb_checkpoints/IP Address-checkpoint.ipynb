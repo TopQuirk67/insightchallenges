{
 "cells": [
  {
   "cell_type": "markdown",
   "metadata": {},
   "source": [
    "### IP address challenge:\n",
    "\n",
    "Find all possible IP addresses from a string:\n",
    "\n",
    "Rules:\n",
    "1) must be four (n=4) individual digits\n",
    "2) each digit is between dmin <= digit <=dmax (dmin = 1; dmax = 255)\n",
    "3) \n",
    "\n",
    "example:\n",
    "\n",
    "255134255231 can only be 255.134.255.231\n",
    "25523211231 can be 255.232.112.31 or 255.23.211.231 or 255.232.11.231\n",
    "1111 can only be 1.1.1.1\n",
    "\n",
    "Special considerations: 0 might be a leading digit you may have to make consideration of whether 1.01.1.1 is valid or if that has be 10.1.1.1\n",
    "\n",
    "\n",
    "\n"
   ]
  },
  {
   "cell_type": "markdown",
   "metadata": {},
   "source": [
    "#### Brute force combinatorics method"
   ]
  },
  {
   "cell_type": "code",
   "execution_count": 1,
   "metadata": {},
   "outputs": [],
   "source": [
    "def ip_brute(s, n = 4, dmin = 1, dmax = 255):\n",
    "    from math import log10\n",
    "    if not isinstance(s, str):\n",
    "        raise TypeError('ip_brute: s must be str type')\n",
    "    if len(s) < (n * int(log10(dmin)+1)):\n",
    "        raise ValueError('ip_brute: s is too short')\n",
    "    if len(s) > (n * int(log10(dmax)+1)):\n",
    "        raise ValueError('ip_brute: s is too long')\n",
    "    if not str.isdigit(s):\n",
    "        raise ValueError('ip_brute: s is not all digits')\n",
    "    return [s]"
   ]
  },
  {
   "cell_type": "code",
   "execution_count": 2,
   "metadata": {},
   "outputs": [
    {
     "data": {
      "text/plain": [
       "['2551']"
      ]
     },
     "execution_count": 2,
     "metadata": {},
     "output_type": "execute_result"
    }
   ],
   "source": [
    "# Unit testing by hand\n",
    "ip_brute('2551')"
   ]
  },
  {
   "cell_type": "code",
   "execution_count": 3,
   "metadata": {},
   "outputs": [],
   "source": [
    "# Unit test using unittest\n"
   ]
  },
  {
   "cell_type": "code",
   "execution_count": 4,
   "metadata": {},
   "outputs": [
    {
     "data": {
      "text/plain": [
       "'6'"
      ]
     },
     "execution_count": 4,
     "metadata": {},
     "output_type": "execute_result"
    }
   ],
   "source": [
    "s = '67213'\n",
    "ip_brute(s)\n",
    "s[0:1]"
   ]
  },
  {
   "cell_type": "markdown",
   "metadata": {},
   "source": [
    "Recursion method"
   ]
  },
  {
   "cell_type": "code",
   "execution_count": 20,
   "metadata": {},
   "outputs": [
    {
     "name": "stdout",
     "output_type": "stream",
     "text": [
      "[1, 2, 6, 24, 120, 720, 5040, 40320, 362880, 3628800]\n"
     ]
    }
   ],
   "source": [
    "# Recursion reminder:\n",
    "def factorial(n):\n",
    "    if not isinstance(n, int):\n",
    "        raise TypeError('n must be int type')\n",
    "    elif n<1:\n",
    "        raise ValueError('n must be greater than 0')\n",
    "    elif n == 1:\n",
    "        return(1)\n",
    "    else:\n",
    "        return(n*factorial(n-1))\n",
    "\n",
    "listf = [factorial(n) for n in range(1,11)]\n",
    "print(listf)"
   ]
  },
  {
   "cell_type": "code",
   "execution_count": 21,
   "metadata": {},
   "outputs": [
    {
     "name": "stdout",
     "output_type": "stream",
     "text": [
      "[0, 1, 1, 2, 3, 5, 8, 13, 21, 34, 55]\n"
     ]
    }
   ],
   "source": [
    "# Recursion reminder 2:\n",
    "def fibo(n):\n",
    "    if n==0:\n",
    "        return(0)\n",
    "    elif n==1:\n",
    "        return(1)\n",
    "    elif n==2:\n",
    "        return(1)\n",
    "    else:\n",
    "        return(fibo(n-1)+fibo(n-2))\n",
    "    \n",
    "listf = [fibo(n) for n in range(11)]\n",
    "print(listf)"
   ]
  },
  {
   "cell_type": "code",
   "execution_count": 5,
   "metadata": {},
   "outputs": [],
   "source": [
    "# Recursive version\n",
    "# There are two inputs to the routine:\n",
    "# a list of strings (initiall empty) of the acceptable subaddresses (suba)\n",
    "# and a string remainder of the leftover digits.\n",
    "# These return in a tuple that you strip back out into the list and the leftover\n",
    "# You are at the base case when suba has n (4) strings and leftover is a blank string\n",
    "def ip_rec(leftover, suba = [], n = 4, dmin = 1, dmax = 255):\n",
    "    # split off the possible leftmost digit combinations:\n",
    "    from math import log10\n",
    "    import copy\n",
    "    max_dc_len = int(log10(dmax)+1)\n",
    "    s = leftover\n",
    "    dc_possible = []\n",
    "#    print('entry:',leftover,suba)\n",
    "    for dc_len in range(1,min(max_dc_len+1,len(s)+1)):\n",
    "        if (int(s[:dc_len]) <= dmax):\n",
    "            dc_possible.append(s[:dc_len])\n",
    "        \n",
    "#    dc_possible = [s[:dc_len] for dc_len in range(1,max(max_dc_len+1,len(s))) if (int(s[:dc_len]) <= dmax)]\n",
    "#    print('s dc:',s,dc_possible)\n",
    "    for dc in dc_possible:\n",
    "        new_suba = copy.copy(suba)\n",
    "        new_leftover = s[len(dc):]\n",
    "        new_suba.append(dc)\n",
    "#        print('before if',dc,new_suba,new_leftover)\n",
    "        if (len(new_suba)==n) and (new_leftover==''):  # base case\n",
    "            print('base case',new_suba, '')\n",
    "            return new_suba, ''      \n",
    "        elif (len(new_suba)>n):\n",
    "            return\n",
    "        elif (len(new_suba)==n) and (new_leftover!=''):\n",
    "            return\n",
    "        else:\n",
    "#            print(' recursion',new_suba, new_leftover)\n",
    "            ip_rec(new_leftover, new_suba)\n",
    "    \n"
   ]
  },
  {
   "cell_type": "code",
   "execution_count": 6,
   "metadata": {},
   "outputs": [
    {
     "name": "stdout",
     "output_type": "stream",
     "text": [
      "base case ['2', '47', '212', '1'] \n",
      "base case ['24', '7', '212', '1'] \n",
      "base case ['24', '72', '12', '1'] \n",
      "base case ['247', '2', '12', '1'] \n",
      "base case ['247', '21', '2', '1'] \n"
     ]
    }
   ],
   "source": [
    "s = '2472121'\n",
    "#s = '11121'\n",
    "len(s)\n",
    "ip_rec(s)\n"
   ]
  },
  {
   "cell_type": "code",
   "execution_count": null,
   "metadata": {},
   "outputs": [],
   "source": [
    "## This doesn't quite work!  Note that we don't get the ['2', '47', '21', '21']\n",
    "## so it seems to be stopping early... more debugging!"
   ]
  },
  {
   "cell_type": "code",
   "execution_count": 23,
   "metadata": {},
   "outputs": [
    {
     "name": "stdout",
     "output_type": "stream",
     "text": [
      "Node('/Udo')\n",
      "Node('/Udo/Dan/Joe')\n",
      "Udo\n",
      "├── Marc\n",
      "│   └── Lian\n",
      "└── Dan\n",
      "    ├── Jet\n",
      "    ├── Jan\n",
      "    └── Joe\n",
      "(Node('/Udo/Dan/Jet'), Node('/Udo/Dan/Jan'), Node('/Udo/Dan/Joe'))\n"
     ]
    }
   ],
   "source": [
    "# try (trie?) a tree structure\n",
    "from anytree import Node, RenderTree\n",
    "\n",
    "udo = Node(\"Udo\")\n",
    "marc = Node(\"Marc\", parent=udo)\n",
    "lian = Node(\"Lian\", parent=marc)\n",
    "dan = Node(\"Dan\", parent=udo)\n",
    "jet = Node(\"Jet\", parent=dan)\n",
    "jan = Node(\"Jan\", parent=dan)\n",
    "joe = Node(\"Joe\", parent=dan)\n",
    "\n",
    "print(udo)\n",
    "print(joe)\n",
    "\n",
    "for pre, fill, node in RenderTree(udo):\n",
    "    print(\"%s%s\" % (pre, node.name))\n",
    "print(dan.children)\n"
   ]
  },
  {
   "cell_type": "code",
   "execution_count": 36,
   "metadata": {},
   "outputs": [
    {
     "name": "stdout",
     "output_type": "stream",
     "text": [
      "Node('/root/2') 472121 ['4', '47']\n",
      "Node('/root/24') 72121 ['7', '72']\n",
      "Node('/root/247') 2121 ['2', '21', '212']\n",
      "Node('/root')\n",
      "├── Node('/root/2')\n",
      "│   └── Node('/root/2/4')\n",
      "│       └── Node('/root/2/4/47')\n",
      "├── Node('/root/24')\n",
      "│   └── Node('/root/24/7')\n",
      "│       └── Node('/root/24/7/72')\n",
      "└── Node('/root/247')\n",
      "    └── Node('/root/247/2')\n",
      "        └── Node('/root/247/2/21')\n",
      "            └── Node('/root/247/2/21/212')\n"
     ]
    }
   ],
   "source": [
    "s = '2472121'\n",
    "#s = '11'\n",
    "\n",
    "# try (trie?) a tree structure\n",
    "from anytree import Node, RenderTree\n",
    "\n",
    "def ip_children(leftover, level = 0, n = 4, dmin = 1, dmax = 255):\n",
    "    # split off the possible leftmost digit combinations:\n",
    "    from math import log10\n",
    "    max_dc_len = int(log10(dmax)+1)\n",
    "    s = leftover\n",
    "    possible_children = []\n",
    "#    print('entry:',leftover,suba)\n",
    "    for dc_len in range(1,min(max_dc_len+1,len(s)+1)):\n",
    "        if (int(s[:dc_len]) <= dmax):\n",
    "            possible_children.append(s[:dc_len])\n",
    "    return(possible_children)\n",
    "\n",
    "def remove_child(s,c):\n",
    "    return s[len(c):]\n",
    "\n",
    "# print(remove_child(s,'2'))\n",
    "\n",
    "root = Node('root')\n",
    "s1 = s\n",
    "ch1 = ip_children(s1)\n",
    "for ix1 in ch1:\n",
    "    b1  = Node(ix1,parent=root)\n",
    "    s2  = remove_child(s1,ix1)\n",
    "    ch2 = ip_children(s2)\n",
    "    print(b1,s2,ch2)\n",
    "    for ix2 in ch2:\n",
    "        b1=Node(ix2,parent=b1)\n",
    "    \n",
    "\n",
    "print(RenderTree(root))"
   ]
  },
  {
   "cell_type": "code",
   "execution_count": null,
   "metadata": {},
   "outputs": [],
   "source": [
    "# so this won't work with anytree; you need to use a trie, which creates pointers to \n",
    "# the children as opposed to having to create a new variable for each node...\n",
    "# left as an exercise to the reader LOL."
   ]
  },
  {
   "cell_type": "code",
   "execution_count": 54,
   "metadata": {},
   "outputs": [
    {
     "data": {
      "text/plain": [
       "'2'"
      ]
     },
     "execution_count": 54,
     "metadata": {},
     "output_type": "execute_result"
    }
   ],
   "source": [
    "str(2)"
   ]
  },
  {
   "cell_type": "code",
   "execution_count": 95,
   "metadata": {},
   "outputs": [
    {
     "name": "stdout",
     "output_type": "stream",
     "text": [
      "431218255 ['1', '2', '3', '4', '5', '6', '7', '8']\n",
      "['4', '31', '218', '255']\n",
      "['43', '1', '218', '255']\n",
      "['43', '12', '18', '255']\n",
      "['43', '12', '182', '55']\n",
      "['43', '121', '8', '255']\n",
      "['43', '121', '82', '55']\n"
     ]
    }
   ],
   "source": [
    "def test_good_ip(ip, n = 4, dmin = 1, dmax = 255):\n",
    "    if len(ip) < n:\n",
    "        return(False)\n",
    "    for item in ip:\n",
    "        if (int(item)<dmin) or (int(item)>dmax):\n",
    "            return(False)\n",
    "    else:\n",
    "        return(True)\n",
    "\n",
    "# Now try with all permutations\n",
    "from itertools import combinations \n",
    "n = 4 # number of terms to split string into\n",
    "#s = '2472123121'\n",
    "s = '431218255'\n",
    "x = [str(i) for i in range(1,len(s))]\n",
    "print(s,x)\n",
    "\n",
    "comb = combinations(x, r = n-1) \n",
    "  \n",
    "# Print the obtained permutations \n",
    "for i in list(comb): \n",
    "    ip = [s[:int(i[0])]]        # first term\n",
    "    for j in range(1,n-1):\n",
    "        ip.append(s[int(i[j-1]):int(i[j])])\n",
    "    ip.append(s[int(i[n-2]):])  # last term\n",
    "    if test_good_ip(ip):\n",
    "        print(ip)\n",
    "\n"
   ]
  },
  {
   "cell_type": "markdown",
   "metadata": {},
   "source": [
    "### A little unit testing practice"
   ]
  },
  {
   "cell_type": "code",
   "execution_count": null,
   "metadata": {},
   "outputs": [],
   "source": []
  }
 ],
 "metadata": {
  "kernelspec": {
   "display_name": "Python 3",
   "language": "python",
   "name": "python3"
  },
  "language_info": {
   "codemirror_mode": {
    "name": "ipython",
    "version": 3
   },
   "file_extension": ".py",
   "mimetype": "text/x-python",
   "name": "python",
   "nbconvert_exporter": "python",
   "pygments_lexer": "ipython3",
   "version": "3.7.1"
  }
 },
 "nbformat": 4,
 "nbformat_minor": 2
}
