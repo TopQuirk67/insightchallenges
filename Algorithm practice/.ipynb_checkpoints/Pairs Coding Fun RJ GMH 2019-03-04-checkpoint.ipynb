{
 "cells": [
  {
   "cell_type": "code",
   "execution_count": 20,
   "metadata": {},
   "outputs": [
    {
     "name": "stdout",
     "output_type": "stream",
     "text": [
      "[9, 8, 7, 4, 3, 2, 2, 1, 1, 1]\n",
      "Dups {1: 2, 2: 1}\n",
      "uniques [1, 2, 3, 4, 7, 8, 9]\n"
     ]
    }
   ],
   "source": [
    "# Question:\n",
    "#     Merge 2 lists \n",
    "#     Remove duplicates\n",
    "#     Count the dups.\n",
    "    \n",
    "a = [1, 7, 3, 2, 2]\n",
    "b = [1, 9, 4, 8, 1]\n",
    "\n",
    "# Output\n",
    "#c = [1, 2, 3, 4, 7, 8, 9]\n",
    "#dups = {1:3, 2:2}\n",
    "        \n",
    "\n",
    "# Algo:\n",
    "#     1. Merge the 2 lists\n",
    "#     2. sort combined list\n",
    "#     3. go through elements counting duplicates [how?]\n",
    "#     4. eliminate duplicates in output list\n",
    "\n",
    "def merge_lists(a,b):\n",
    "    b.extend(a)\n",
    "    b.sort()\n",
    "    b.reverse()\n",
    "    return(b)\n",
    "   \n",
    "c = merge_lists(a,b)\n",
    "\n",
    "def count_duplicates(c):\n",
    "    dups = {}\n",
    "    uniques_list = []\n",
    "    while(c):\n",
    "        key = c.pop()\n",
    "        if (key in dups.keys()):\n",
    "            dups[key] += 1\n",
    "        else:\n",
    "            dups[key] = 0\n",
    "            uniques_list.append(key)\n",
    "        # now we have a dict with all values but we only want to \n",
    "        # return a dict with duplicates\n",
    "        d2 = {k: v for k,v in dups.items() if v!=0}\n",
    "    return(uniques_list,d2)\n",
    "  \n",
    "\n",
    "\n",
    "print(c)\n",
    "u, d = count_duplicates(c)\n",
    "print('Dups',d)\n",
    "print('uniques',u)"
   ]
  },
  {
   "cell_type": "code",
   "execution_count": null,
   "metadata": {},
   "outputs": [],
   "source": []
  }
 ],
 "metadata": {
  "kernelspec": {
   "display_name": "Python 3",
   "language": "python",
   "name": "python3"
  },
  "language_info": {
   "codemirror_mode": {
    "name": "ipython",
    "version": 3
   },
   "file_extension": ".py",
   "mimetype": "text/x-python",
   "name": "python",
   "nbconvert_exporter": "python",
   "pygments_lexer": "ipython3",
   "version": "3.7.1"
  }
 },
 "nbformat": 4,
 "nbformat_minor": 2
}
