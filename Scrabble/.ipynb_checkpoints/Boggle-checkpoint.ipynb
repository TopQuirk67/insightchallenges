{
 "cells": [
  {
   "cell_type": "markdown",
   "metadata": {},
   "source": [
    "Here are the [rules](https://plentifun.com/rules-for-playing-boggle-word-game) for boggle\n",
    "here are the [tile specs](https://github.com/lkesteloot/boggle/blob/master/boggle.py)\n"
   ]
  },
  {
   "cell_type": "markdown",
   "metadata": {},
   "source": [
    "        dice = [\n",
    "                \"AAEEGN\",\n",
    "                \"ELRTTY\",\n",
    "                \"AOOTTW\",\n",
    "                \"ABBJOO\",\n",
    "                \"EHRTVW\",\n",
    "                \"CIMOTU\",\n",
    "                \"DISTTY\",\n",
    "                \"EIOSST\",\n",
    "                \"DELRVY\",\n",
    "                \"ACHOPS\",\n",
    "                \"HIMNQU\",\n",
    "                \"EEINSU\",\n",
    "                \"EEGHNW\",\n",
    "                \"AFFKPS\",\n",
    "                \"HLNNRZ\",\n",
    "                \"DEILRX\",\n",
    "]"
   ]
  },
  {
   "cell_type": "code",
   "execution_count": null,
   "metadata": {},
   "outputs": [],
   "source": []
  }
 ],
 "metadata": {
  "kernelspec": {
   "display_name": "Python 3",
   "language": "python",
   "name": "python3"
  },
  "language_info": {
   "codemirror_mode": {
    "name": "ipython",
    "version": 3
   },
   "file_extension": ".py",
   "mimetype": "text/x-python",
   "name": "python",
   "nbconvert_exporter": "python",
   "pygments_lexer": "ipython3",
   "version": "3.7.1"
  }
 },
 "nbformat": 4,
 "nbformat_minor": 2
}
