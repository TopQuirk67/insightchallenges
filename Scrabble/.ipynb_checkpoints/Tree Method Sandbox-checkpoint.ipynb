{
 "cells": [
  {
   "cell_type": "markdown",
   "metadata": {},
   "source": [
    "[From](https://stackoverflow.com/questions/19473085/create-a-nested-dictionary-for-a-word-python)"
   ]
  },
  {
   "cell_type": "code",
   "execution_count": 10,
   "metadata": {},
   "outputs": [
    {
     "name": "stdout",
     "output_type": "stream",
     "text": [
      "'A':\n",
      "  'P':\n",
      "    'P':\n",
      "      'L':\n",
      "        'E':\n",
      "    'E':\n",
      "'B':\n",
      "  'A':\n",
      "    'R':\n",
      "      'K':\n",
      "      'N':\n",
      "      'E':\n",
      "        'D':\n",
      "    'B':\n",
      "      'Y':\n"
     ]
    }
   ],
   "source": [
    "\n",
    "\n",
    "\n",
    "def tree():\n",
    "    from collections import defaultdict\n",
    "    return defaultdict(tree)\n",
    "\n",
    "from collections import defaultdict\n",
    "nested = defaultdict(tree)\n",
    "words = ['Apple','Ape','Bark','Barn','Bar','Bared','Baby']\n",
    "for word in words:\n",
    "    node = nested\n",
    "    for char in word:\n",
    "        node = node[char.upper()]\n",
    "        \n",
    "def print_nested(d, indent=0):\n",
    "    for k, v in d.items():\n",
    "        print('{}{!r}:'.format(indent * '  ', k))\n",
    "        print_nested(v, indent + 1)\n",
    "\n",
    "print_nested(nested)\n"
   ]
  },
  {
   "cell_type": "code",
   "execution_count": null,
   "metadata": {},
   "outputs": [],
   "source": []
  }
 ],
 "metadata": {
  "kernelspec": {
   "display_name": "Python 3",
   "language": "python",
   "name": "python3"
  },
  "language_info": {
   "codemirror_mode": {
    "name": "ipython",
    "version": 3
   },
   "file_extension": ".py",
   "mimetype": "text/x-python",
   "name": "python",
   "nbconvert_exporter": "python",
   "pygments_lexer": "ipython3",
   "version": "3.7.1"
  }
 },
 "nbformat": 4,
 "nbformat_minor": 2
}
