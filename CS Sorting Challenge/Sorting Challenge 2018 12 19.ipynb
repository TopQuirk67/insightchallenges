{
 "cells": [
  {
   "cell_type": "markdown",
   "metadata": {},
   "source": [
    "[Prompt:](https://docs.google.com/document/d/1IPm4_VIKv8aEZwC8HiOiOskdrzp1tgNVcKN78bCAYoQ/edit)"
   ]
  },
  {
   "cell_type": "markdown",
   "metadata": {},
   "source": [
    "## Part 1: write a program to solve a problem\n",
    "\n",
    "Parts of the problem to solve\n",
    " - using the command line for input\n",
    " - use regular expression to eliminate invalid characters\n",
    " - classify each remaining string as letter or number (use the first character if it's a mix\n",
    " - sort each class separately and concatenate into a list in the correct order\n",
    " - output\n",
    " \n",
    " "
   ]
  },
  {
   "cell_type": "code",
   "execution_count": 1,
   "metadata": {},
   "outputs": [],
   "source": [
    "## Final code (well, almost final, it needs to put into an inline .py file)\n",
    "# Program specs:\n",
    "# Take a list of strings, filter out non-numerical and non-letter (UC or LC) characters\n",
    "# Order ascending the numerical and letter strings\n",
    "# Return list of strings with the input list's structure in terms of string/letter etc.\n",
    "\n"
   ]
  },
  {
   "cell_type": "code",
   "execution_count": 2,
   "metadata": {},
   "outputs": [],
   "source": [
    "# Imports\n",
    "import sys\n",
    "import re\n",
    "#import numpy as np\n",
    "\n"
   ]
  },
  {
   "cell_type": "markdown",
   "metadata": {},
   "source": [
    "## Junk Code / putting together the subparts:\n",
    "\n"
   ]
  },
  {
   "cell_type": "code",
   "execution_count": 3,
   "metadata": {},
   "outputs": [],
   "source": [
    "# Doing the inline read from the command line:\n",
    "# This is the print of the first argument at the command line. \n",
    "# It is commented out in Jupyter because the notebook is not a command-line program\n",
    "##print (sys.argv[1])\n",
    "\n"
   ]
  },
  {
   "cell_type": "code",
   "execution_count": 4,
   "metadata": {},
   "outputs": [
    {
     "data": {
      "text/plain": [
       "['20', 'cAt', 'bird', '12', 'Dog']"
      ]
     },
     "execution_count": 4,
     "metadata": {},
     "output_type": "execute_result"
    }
   ],
   "source": [
    "# Building the regular expression portion of the code\n",
    "# A sample input string\n",
    "input_text = '2%(0  cAt  bi?rd 12 Do@g'\n",
    "input_list = input_text.split()\n",
    "\n",
    "# Here we are using regular expression matching from the re package\n",
    "# Note that spaces are replaced and that case remains the same\n",
    "scrubbed_list = [re.sub(r'[^0-9a-zA-Z]', \"\",item) for item in input_list]    \n",
    "# \n",
    "scrubbed_list"
   ]
  },
  {
   "cell_type": "code",
   "execution_count": null,
   "metadata": {},
   "outputs": [],
   "source": []
  },
  {
   "cell_type": "code",
   "execution_count": 96,
   "metadata": {},
   "outputs": [
    {
     "name": "stdout",
     "output_type": "stream",
     "text": [
      "['12' 'bird' 'cAt' '20' 'Dog']\n"
     ]
    }
   ],
   "source": [
    "import numpy as np\n",
    "# Let's see if we can get an even more elegant approach using numpy indexing\n",
    "def str_typel(s):\n",
    "    if s[0] in '0123456789':\n",
    "        return True\n",
    "    else:\n",
    "        return False\n",
    "\n",
    "numlike = np.where(list(map(str_typel,scrubbed_list)))\n",
    "wordlike = np.where(np.logical_not(list(map(str_typel,scrubbed_list))))\n",
    "ni = list(numlike[0])\n",
    "wi = list(wordlike[0])\n",
    "sca = np.array(scrubbed_list)\n",
    "ns = sorted(sca[ni],key=str.lower)\n",
    "ws = sorted(sca[wi],key=str.lower)\n",
    "sca[ni]=ns\n",
    "sca[wi]=ws\n",
    "print(sca)"
   ]
  },
  {
   "cell_type": "code",
   "execution_count": 86,
   "metadata": {},
   "outputs": [],
   "source": [
    "# This section is for the sorting\n",
    "def str_type(s):\n",
    "    if s[0] in '0123456789':\n",
    "        return 'n' # number-like\n",
    "    else:\n",
    "        return 'w' # word-like\n",
    "\n",
    "st = [str_type(item) for item in scrubbed_list]\n",
    "w  = sorted([item for item in scrubbed_list if str_type(item)=='w'],key=str.lower)\n",
    "n  = sorted([item for item in scrubbed_list if str_type(item)=='n'],key=str.lower)\n",
    "output_list = []\n",
    "i_n=0\n",
    "i_w=0\n",
    "for item in st:\n",
    "    if (item=='n'):\n",
    "        output_list.append(n[i_n])\n",
    "        i_n+=1\n",
    "    else:\n",
    "        output_list.append(w[i_w])\n",
    "        i_w+=1\n",
    "\n"
   ]
  },
  {
   "cell_type": "code",
   "execution_count": 35,
   "metadata": {},
   "outputs": [],
   "source": [
    "# Let's see if we can get a more elegant approach...\n",
    "w  = sorted([item for item in scrubbed_list if item[0] not in '0123456789'],key=str.lower)\n",
    "n  = sorted([item for item in scrubbed_list if item[0]     in '0123456789'],key=str.lower)\n",
    "output_list = []\n",
    "for item in scrubbed_list:\n",
    "    if (item[0] in '0123456789'):\n",
    "        output_list.append(n.pop(0))\n",
    "    else:\n",
    "        output_list.append(w.pop(0))\n"
   ]
  },
  {
   "cell_type": "code",
   "execution_count": 37,
   "metadata": {},
   "outputs": [
    {
     "data": {
      "text/plain": [
       "['12', 'bird', 'cAt', '20', 'Dog']"
      ]
     },
     "execution_count": 37,
     "metadata": {},
     "output_type": "execute_result"
    }
   ],
   "source": [
    "output_list\n",
    "\n"
   ]
  },
  {
   "cell_type": "code",
   "execution_count": 73,
   "metadata": {},
   "outputs": [
    {
     "data": {
      "text/plain": [
       "'12 bird cAt 20 dog'"
      ]
     },
     "execution_count": 73,
     "metadata": {},
     "output_type": "execute_result"
    }
   ],
   "source": [
    "' '.join(output_list)\n"
   ]
  },
  {
   "cell_type": "code",
   "execution_count": 69,
   "metadata": {},
   "outputs": [],
   "source": [
    "with open('list.txt', 'r') as f:\n",
    "    data = f.readlines()  # allow multiple lines; just treat each one separately\n",
    "f.close()\n",
    "\n",
    "output_lines = []\n",
    "for line in data:\n",
    "    output_lines.append(line)\n",
    "    \n",
    "output_lines\n",
    "\n",
    "f_out = open('result.txt','w')\n",
    "f_out.writelines(output_lines)\n",
    "f_out.close()\n"
   ]
  },
  {
   "cell_type": "markdown",
   "metadata": {},
   "source": [
    "## Putting it all together"
   ]
  },
  {
   "cell_type": "code",
   "execution_count": null,
   "metadata": {},
   "outputs": [],
   "source": [
    "## Final code \n",
    "# Program specs:\n",
    "# Take a list of strings, filter out non-numerical and non-letter (UC or LC) characters\n",
    "# Order ascending the numerical and letter strings\n",
    "# Return list of strings with the input list's structure in terms of string/letter etc.\n",
    "# Imports\n",
    "import sys\n",
    "import re\n",
    "import numpy as np\n",
    "\n",
    "if len(sys.argv)>2:\n",
    "    input_file = sys.argv[1]\n",
    "    output_file = sys.argv[2]\n",
    "elif len(sys.argv)>1:\n",
    "    input_file = sys.argv[1]\n",
    "    output_file = 'results.txt'\n",
    "else:\n",
    "    input_file = 'list.txt'\n",
    "    output_file = 'results.txt'\n",
    "\n",
    "#### function definitions\n",
    "def str_type(s):\n",
    "    if s[0] in '0123456789':\n",
    "        return 'n' # number-like\n",
    "    else:\n",
    "        return 'w' # word-like\n",
    "\n",
    "def scrub_order(input_string):\n",
    "    # Takes a string as input\n",
    "    input_list = input_string.split()\n",
    "    # Here we are using regular expression matching from the re package\n",
    "    # Note that spaces are replaced and that case remains the same\n",
    "    scrubbed_list = [re.sub(r'[^0-9a-zA-Z]', \"\",item) for item in input_list]    \n",
    "\n",
    "    # make a list of the type of item, either 'n' or 'w' for number- or word-like\n",
    "    st = [str_type(item) for item in scrubbed_list]\n",
    "    # lists of sorted numbers and words:\n",
    "    w  = sorted([item for item in scrubbed_list if str_type(item)=='w'],key=str.lower)\n",
    "    n  = sorted([item for item in scrubbed_list if str_type(item)=='n'],key=str.lower)\n",
    "    # now recombine the word-like and number-like items in the original order\n",
    "    output_list = []\n",
    "    i_n=0\n",
    "    i_w=0\n",
    "    for item in st:\n",
    "        if (item=='n'):\n",
    "            output_list.append(n[i_n])\n",
    "            i_n+=1\n",
    "        else:\n",
    "            output_list.append(w[i_w])\n",
    "            i_w+=1\n",
    "    return ' '.join(output_list) # return a string rather than a list\n",
    "\n",
    "#### now open the file and call functions\n",
    "with open(input_file, 'r') as f:\n",
    "    data = f.readlines()  # allow multiple lines; just treat each one separately\n",
    "f.close()\n",
    "\n",
    "output_lines = []\n",
    "for line in data:\n",
    "    output_lines.append(scrub_order(line))\n",
    "\n",
    "f_out = open(output_file,'w')\n",
    "for line in output_lines:\n",
    "    f_out.write(line+'\\n')\n",
    "f_out.close()\n"
   ]
  }
 ],
 "metadata": {
  "kernelspec": {
   "display_name": "Python 3",
   "language": "python",
   "name": "python3"
  },
  "language_info": {
   "codemirror_mode": {
    "name": "ipython",
    "version": 3
   },
   "file_extension": ".py",
   "mimetype": "text/x-python",
   "name": "python",
   "nbconvert_exporter": "python",
   "pygments_lexer": "ipython3",
   "version": "3.7.1"
  }
 },
 "nbformat": 4,
 "nbformat_minor": 2
}
