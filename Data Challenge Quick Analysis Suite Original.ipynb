{
 "cells": [
  {
   "cell_type": "markdown",
   "metadata": {},
   "source": [
    "This is a little suite to do all the steps in \n",
    "\n",
    "https://www.quora.com/What-are-some-ways-to-prepare-for-a-data-challenge-with-a-Silicon-Valley-tech-company-How-do-I-make-sure-I-have-sufficient-fluency-with-data-munging-and-ML-in-Python\n",
    "\n",
    "The intent is to recopy and reuse this script on any data challenge in the future to get some of the simpler steps out of the way so that I can apply the more complicated steps.\n",
    "\n"
   ]
  },
  {
   "cell_type": "markdown",
   "metadata": {},
   "source": [
    "A few assumptions!\n",
    "\n",
    "You know how to grab the data and get it into a pandas dataframe, and you already have labels for it.\n",
    "\n",
    "Also, you're just going to call it \"df\" from now on... \n",
    "\n"
   ]
  },
  {
   "cell_type": "code",
   "execution_count": 1,
   "metadata": {},
   "outputs": [],
   "source": [
    "import pandas as pd\n",
    "import matplotlib as plt\n"
   ]
  },
  {
   "cell_type": "markdown",
   "metadata": {},
   "source": [
    "Do some data integrity checks"
   ]
  },
  {
   "cell_type": "code",
   "execution_count": null,
   "metadata": {},
   "outputs": [],
   "source": [
    "print('Your data has dimensions:',df.shape)\n",
    "df.dtypes\n",
    "\n",
    "null_data = df[df.isnull().any(axis=1)]\n",
    "\n",
    "if null_data.shape[0]>0:\n",
    "    print('Warning you have null data!')\n",
    "    print(null_data)\n",
    "\n",
    "print(df.dtypes)\n",
    "\n",
    "\n"
   ]
  }
 ],
 "metadata": {
  "kernelspec": {
   "display_name": "Python 3",
   "language": "python",
   "name": "python3"
  },
  "language_info": {
   "codemirror_mode": {
    "name": "ipython",
    "version": 3
   },
   "file_extension": ".py",
   "mimetype": "text/x-python",
   "name": "python",
   "nbconvert_exporter": "python",
   "pygments_lexer": "ipython3",
   "version": "3.7.0"
  }
 },
 "nbformat": 4,
 "nbformat_minor": 2
}
